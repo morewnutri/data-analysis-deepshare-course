{
 "cells": [
  {
   "cell_type": "code",
   "execution_count": 1,
   "metadata": {},
   "outputs": [],
   "source": [
    "from sklearn.datasets import load_iris\n",
    "from sklearn.cluster import KMeans\n",
    "import pandas as pd\n",
    "import numpy as np"
   ]
  },
  {
   "cell_type": "markdown",
   "metadata": {},
   "source": [
    "##### 1.数据导入与预处理"
   ]
  },
  {
   "cell_type": "code",
   "execution_count": 2,
   "metadata": {},
   "outputs": [],
   "source": [
    "iris = pd.read_csv('./Desktop/iris.csv')\n",
    "iris1 = iris.drop(\"target\",axis = 1)\n",
    "iris1 = iris1.drop([\"sepal length (cm)\",\"sepal width (cm)\"],axis=1)\n",
    "\n",
    "from sklearn.preprocessing import LabelEncoder\n",
    "encoder = LabelEncoder()\n",
    "iris1[\"species\"] = encoder.fit_transform(iris[\"species\"])\n",
    "\n",
    "from sklearn.preprocessing import StandardScaler\n",
    "trans = StandardScaler()\n",
    "td_std = trans.fit_transform(iris1[[\"petal length (cm)\",'petal width (cm)']])#有两个列，所以需要再加一个方括号\n",
    "td_std = pd.DataFrame(td_std,columns = [\"petal length (cm)\",'petal width (cm)'])#有两个列，所以需要再加一个方括号\n"
   ]
  },
  {
   "cell_type": "markdown",
   "metadata": {},
   "source": [
    "##### 2.训练集与测试集"
   ]
  },
  {
   "cell_type": "code",
   "execution_count": 3,
   "metadata": {},
   "outputs": [],
   "source": [
    "from sklearn.model_selection import train_test_split\n",
    "train_set,test_set = train_test_split(iris1,test_size = 0.2)\n",
    "\n",
    "train_set_x = train_set[[\"petal length (cm)\",\"petal width (cm)\"]]\n",
    "train_set_y = train_set[\"species\"]\n",
    "test_set_x = test_set[[\"petal length (cm)\",\"petal width (cm)\"]]\n",
    "test_set_y = test_set[\"species\"]"
   ]
  },
  {
   "cell_type": "code",
   "execution_count": 8,
   "metadata": {},
   "outputs": [],
   "source": [
    "# 定义绘图函数 draw（）\n",
    "import numpy as np \n",
    "import matplotlib as mpl \n",
    "import matplotlib.pyplot as plt \n",
    "def draw(clf):        \n",
    "    M, N = 500, 500 \n",
    "    x1_min,  x2_min  =  iris1[[\"petal length (cm)\",\"petal width (cm)\"]]. min(axis=0) #  取两根轴的最值，axis=0 表示沿竖轴运作，\n",
    "    x1_max,  x2_max  =  iris1[[\"petal length (cm)\",\"petal width (cm)\"]]. max(axis=0) #  因此取的就是花瓣长度和宽度的最值。\n",
    "    t1  =  np.linspace(x1_min,  x1_max,  M)  #  将两根轴等差均分成 500 段并赋值给向量t1 t2     \n",
    "    t2 = np.linspace(x2_min, x2_max, N)     \n",
    "    x1, x2 = np.meshgrid(t1, t2)     # 用 meshgrid 生成两个数组，第一个是t1，t2交叉后所有点的横坐标；第二个数组是纵坐标；并分别把所有横，纵坐标赋值给x1和x2两个向量    \n",
    "    # 预测\n",
    "    x_show  =  np.stack((x1.flat,  x2.flat),  axis=1)  #flat 功能先将 x1 和 x2 拉平成长度为【500】的数组，stack函数在第二维度（axis=1）上增加，\n",
    "    #组成【500，2】的矩阵，每一行其实就是某一个点的坐标。    \n",
    "    \n",
    "    y_predict = clf.predict(x_show)#为每个点预测分类结果，为绘制预测区域做准备。形状为【500，1】          \n",
    "    # 配色    \n",
    "    cm_light = mpl.colors.ListedColormap([\"#A0FFA0\", \"#FFA0A0\", \"#A0A0FF\"])   \n",
    "    cm_dark = mpl.colors.ListedColormap([\"g\", \"r\", \"b\"])       \n",
    "    # 绘制预测区域图    \n",
    "    plt.figure(figsize=(10, 6))#生成图像区域，并指定比例    \n",
    "    plt.pcolormesh(t1, t2, y_predict.reshape(x1.shape), cmap=cm_light)     \n",
    "    # pcolormesh用来画背景预测区域，t1横坐标，t2纵坐标，第三项分类标签，第四项颜色        \n",
    "    # 绘制原始数据点    \n",
    "    plt.scatter(iris1[\"petal length (cm)\"],iris1[\"petal width (cm)\"],c=iris1[\"species\"], label=None, cmap=cm_dark, marker='o', edgecolors='k')   \n",
    "    plt.xlabel(\"Petal.Length\")    \n",
    "    plt.ylabel(\"Petal.Width\")\n",
    "    \n",
    "    # 绘制图例    \n",
    "    color = [\"g\", \"r\", \"b\"]    \n",
    "    species = [\"setosa\", \"virginica\", \"versicolor\"]    \n",
    "    for i in range(3):        \n",
    "        plt.scatter([], [], c=color[i], s=40, label=species[i])    # 利用空点绘制图例：    \n",
    "    \n",
    "    plt.legend(loc=\"best\")\n",
    "    \n",
    "    plt.title('iris_classfier')"
   ]
  },
  {
   "cell_type": "markdown",
   "metadata": {},
   "source": [
    "## 3.算法实现 决策树"
   ]
  },
  {
   "cell_type": "markdown",
   "metadata": {},
   "source": [
    "##### 建模"
   ]
  },
  {
   "cell_type": "code",
   "execution_count": 13,
   "metadata": {},
   "outputs": [
    {
     "data": {
      "text/plain": [
       "DecisionTreeClassifier(ccp_alpha=0.0, class_weight=None, criterion='gini',\n",
       "                       max_depth=4, max_features=None, max_leaf_nodes=None,\n",
       "                       min_impurity_decrease=0.0, min_impurity_split=None,\n",
       "                       min_samples_leaf=1, min_samples_split=2,\n",
       "                       min_weight_fraction_leaf=0.0, presort='deprecated',\n",
       "                       random_state=None, splitter='best')"
      ]
     },
     "execution_count": 13,
     "metadata": {},
     "output_type": "execute_result"
    }
   ],
   "source": [
    "from sklearn.tree import DecisionTreeClassifier\n",
    "clf = DecisionTreeClassifier(max_depth = 4)\n",
    "clf\n",
    "\n",
    "#max_depth 太大可能会有过拟合。"
   ]
  },
  {
   "cell_type": "markdown",
   "metadata": {},
   "source": [
    "##### 训练"
   ]
  },
  {
   "cell_type": "code",
   "execution_count": 14,
   "metadata": {},
   "outputs": [
    {
     "data": {
      "text/plain": [
       "DecisionTreeClassifier(ccp_alpha=0.0, class_weight=None, criterion='gini',\n",
       "                       max_depth=4, max_features=None, max_leaf_nodes=None,\n",
       "                       min_impurity_decrease=0.0, min_impurity_split=None,\n",
       "                       min_samples_leaf=1, min_samples_split=2,\n",
       "                       min_weight_fraction_leaf=0.0, presort='deprecated',\n",
       "                       random_state=None, splitter='best')"
      ]
     },
     "execution_count": 14,
     "metadata": {},
     "output_type": "execute_result"
    }
   ],
   "source": [
    "clf.fit(train_set_x,train_set_y)"
   ]
  },
  {
   "cell_type": "markdown",
   "metadata": {},
   "source": [
    "##### 预测"
   ]
  },
  {
   "cell_type": "code",
   "execution_count": 20,
   "metadata": {},
   "outputs": [
    {
     "name": "stdout",
     "output_type": "stream",
     "text": [
      "[1 1 1 0 0 1 0 1 0 2 0 2 2 2 0 2 2 2 1 1 1 1 1 2 1 1 1 2 1 0]\n",
      "[1 2 1 0 0 1 0 1 0 2 0 2 2 2 0 2 2 2 1 1 1 1 1 2 1 1 1 2 1 0]\n"
     ]
    }
   ],
   "source": [
    "res = clf.predict(test_set_x)\n",
    "print(res)\n",
    "print(test_set_y.values)"
   ]
  },
  {
   "cell_type": "markdown",
   "metadata": {},
   "source": [
    "##### 评估"
   ]
  },
  {
   "cell_type": "code",
   "execution_count": 19,
   "metadata": {},
   "outputs": [
    {
     "name": "stdout",
     "output_type": "stream",
     "text": [
      "预测正确率：97%\n",
      "[1 2 1 0 0 1 0 1 0 2 0 2 2 2 0 2 2 2 1 1 1 1 1 2 1 1 1 2 1 0]\n"
     ]
    }
   ],
   "source": [
    "accuracy = clf.score(test_set_x,test_set_y)\n",
    "print(\"预测正确率：{:.0%}\".format(accuracy))"
   ]
  },
  {
   "cell_type": "code",
   "execution_count": 21,
   "metadata": {},
   "outputs": [
    {
     "data": {
      "image/png": "[encoded data removed]",
      "text/plain": [
       "<Figure size 720x432 with 1 Axes>"
      ]
     },
     "metadata": {
      "needs_background": "light"
     },
     "output_type": "display_data"
    }
   ],
   "source": [
    "draw(clf)"
   ]
  },
  {
   "cell_type": "markdown",
   "metadata": {},
   "source": [
    "## 算法实现 随机森林"
   ]
  },
  {
   "cell_type": "markdown",
   "metadata": {},
   "source": [
    "##### 建模"
   ]
  },
  {
   "cell_type": "code",
   "execution_count": 25,
   "metadata": {},
   "outputs": [
    {
     "data": {
      "text/plain": [
       "RandomForestClassifier(bootstrap=True, ccp_alpha=0.0, class_weight=None,\n",
       "                       criterion='gini', max_depth=None, max_features='auto',\n",
       "                       max_leaf_nodes=None, max_samples=None,\n",
       "                       min_impurity_decrease=0.0, min_impurity_split=None,\n",
       "                       min_samples_leaf=1, min_samples_split=2,\n",
       "                       min_weight_fraction_leaf=0.0, n_estimators='warn',\n",
       "                       n_jobs=None, oob_score=False, random_state=None,\n",
       "                       verbose=0, warm_start=False)"
      ]
     },
     "execution_count": 25,
     "metadata": {},
     "output_type": "execute_result"
    }
   ],
   "source": [
    "from sklearn.ensemble import RandomForestClassifier # 导入随机森林,并学习一下其中重要参数\n",
    "RandomForestClassifier(n_estimators='warn',criterion='gini',max_depth=None)\n",
    "\n",
    "# n_estimator此处决定树的棵数，默认100棵   \n",
    "# criterion 此处决定特征划分的方法，默认使用CART算法的GINI系数   \n",
    "# max_depth此处决定树的最大深度"
   ]
  },
  {
   "cell_type": "code",
   "execution_count": 26,
   "metadata": {},
   "outputs": [
    {
     "data": {
      "text/plain": [
       "RandomForestClassifier(bootstrap=True, ccp_alpha=0.0, class_weight=None,\n",
       "                       criterion='gini', max_depth=None, max_features='auto',\n",
       "                       max_leaf_nodes=None, max_samples=None,\n",
       "                       min_impurity_decrease=0.0, min_impurity_split=None,\n",
       "                       min_samples_leaf=1, min_samples_split=2,\n",
       "                       min_weight_fraction_leaf=0.0, n_estimators=20,\n",
       "                       n_jobs=None, oob_score=False, random_state=None,\n",
       "                       verbose=0, warm_start=False)"
      ]
     },
     "execution_count": 26,
     "metadata": {},
     "output_type": "execute_result"
    }
   ],
   "source": [
    "clf = RandomForestClassifier(n_estimators=20) \n",
    "clf # 将随机森林设置成求解器对象clf，并检查重要参数训练clf.fit(train_x_set,train_y_set)"
   ]
  },
  {
   "cell_type": "markdown",
   "metadata": {},
   "source": [
    "##### 训练"
   ]
  },
  {
   "cell_type": "code",
   "execution_count": 28,
   "metadata": {},
   "outputs": [
    {
     "data": {
      "text/plain": [
       "RandomForestClassifier(bootstrap=True, ccp_alpha=0.0, class_weight=None,\n",
       "                       criterion='gini', max_depth=None, max_features='auto',\n",
       "                       max_leaf_nodes=None, max_samples=None,\n",
       "                       min_impurity_decrease=0.0, min_impurity_split=None,\n",
       "                       min_samples_leaf=1, min_samples_split=2,\n",
       "                       min_weight_fraction_leaf=0.0, n_estimators=20,\n",
       "                       n_jobs=None, oob_score=False, random_state=None,\n",
       "                       verbose=0, warm_start=False)"
      ]
     },
     "execution_count": 28,
     "metadata": {},
     "output_type": "execute_result"
    }
   ],
   "source": [
    "clf.fit(train_set_x,train_set_y)"
   ]
  },
  {
   "cell_type": "markdown",
   "metadata": {},
   "source": [
    "##### 预测"
   ]
  },
  {
   "cell_type": "code",
   "execution_count": 29,
   "metadata": {},
   "outputs": [
    {
     "name": "stdout",
     "output_type": "stream",
     "text": [
      "[1 1 1 0 0 1 0 1 0 2 0 2 2 2 0 2 2 2 1 1 1 1 1 2 1 1 1 2 1 0]\n",
      "[1 2 1 0 0 1 0 1 0 2 0 2 2 2 0 2 2 2 1 1 1 1 1 2 1 1 1 2 1 0]\n"
     ]
    }
   ],
   "source": [
    "res = clf.predict(test_set_x) \n",
    "print(res) \n",
    "print(test_set_y.values)"
   ]
  },
  {
   "cell_type": "markdown",
   "metadata": {},
   "source": [
    "##### 评估"
   ]
  },
  {
   "cell_type": "code",
   "execution_count": 30,
   "metadata": {},
   "outputs": [
    {
     "name": "stdout",
     "output_type": "stream",
     "text": [
      " 预测正确率:97%\n"
     ]
    }
   ],
   "source": [
    "accuracy = clf.score(test_set_x,test_set_y) \n",
    "print(\" 预测正确率:{:.0%}\".format(accuracy))"
   ]
  },
  {
   "cell_type": "markdown",
   "metadata": {},
   "source": [
    "##### 结果可视化"
   ]
  },
  {
   "cell_type": "code",
   "execution_count": 31,
   "metadata": {},
   "outputs": [
    {
     "data": {
      "image/png": "[encoded data removed]",
      "text/plain": [
       "<Figure size 720x432 with 1 Axes>"
      ]
     },
     "metadata": {
      "needs_background": "light"
     },
     "output_type": "display_data"
    }
   ],
   "source": [
    "# 绘图\n",
    "draw(clf) \n"
   ]
  },
  {
   "cell_type": "code",
   "execution_count": 33,
   "metadata": {},
   "outputs": [
    {
     "data": {
      "text/html": [
       "<div>\n",
       "<style scoped>\n",
       "    .dataframe tbody tr th:only-of-type {\n",
       "        vertical-align: middle;\n",
       "    }\n",
       "\n",
       "    .dataframe tbody tr th {\n",
       "        vertical-align: top;\n",
       "    }\n",
       "\n",
       "    .dataframe thead th {\n",
       "        text-align: right;\n",
       "    }\n",
       "</style>\n",
       "<table border=\"1\" class=\"dataframe\">\n",
       "  <thead>\n",
       "    <tr style=\"text-align: right;\">\n",
       "      <th></th>\n",
       "      <th>petal length (cm)</th>\n",
       "      <th>petal width (cm)</th>\n",
       "      <th>y</th>\n",
       "      <th>pre</th>\n",
       "    </tr>\n",
       "  </thead>\n",
       "  <tbody>\n",
       "    <tr>\n",
       "      <td>50</td>\n",
       "      <td>4.7</td>\n",
       "      <td>1.4</td>\n",
       "      <td>1</td>\n",
       "      <td>1</td>\n",
       "    </tr>\n",
       "    <tr>\n",
       "      <td>138</td>\n",
       "      <td>4.8</td>\n",
       "      <td>1.8</td>\n",
       "      <td>2</td>\n",
       "      <td>1</td>\n",
       "    </tr>\n",
       "    <tr>\n",
       "      <td>60</td>\n",
       "      <td>3.5</td>\n",
       "      <td>1.0</td>\n",
       "      <td>1</td>\n",
       "      <td>1</td>\n",
       "    </tr>\n",
       "    <tr>\n",
       "      <td>4</td>\n",
       "      <td>1.4</td>\n",
       "      <td>0.2</td>\n",
       "      <td>0</td>\n",
       "      <td>0</td>\n",
       "    </tr>\n",
       "    <tr>\n",
       "      <td>0</td>\n",
       "      <td>1.4</td>\n",
       "      <td>0.2</td>\n",
       "      <td>0</td>\n",
       "      <td>0</td>\n",
       "    </tr>\n",
       "  </tbody>\n",
       "</table>\n",
       "</div>"
      ],
      "text/plain": [
       "     petal length (cm)  petal width (cm)  y  pre\n",
       "50                 4.7               1.4  1    1\n",
       "138                4.8               1.8  2    1\n",
       "60                 3.5               1.0  1    1\n",
       "4                  1.4               0.2  0    0\n",
       "0                  1.4               0.2  0    0"
      ]
     },
     "execution_count": 33,
     "metadata": {},
     "output_type": "execute_result"
    }
   ],
   "source": [
    "# 结果输出\n",
    "out = test_set_x.copy() \n",
    "out[\"y\"] = test_set_y\n",
    "out[\"pre\"] = res\n",
    "out.head() \n",
    "#out.to_csv(\"iris_predict_rf.csv\")"
   ]
  }
 ],
 "metadata": {
  "kernelspec": {
   "display_name": "Python 3",
   "language": "python",
   "name": "python3"
  },
  "language_info": {
   "codemirror_mode": {
    "name": "ipython",
    "version": 3
   },
   "file_extension": ".py",
   "mimetype": "text/x-python",
   "name": "python",
   "nbconvert_exporter": "python",
   "pygments_lexer": "ipython3",
   "version": "3.7.4"
  }
 },
 "nbformat": 4,
 "nbformat_minor": 2
}
